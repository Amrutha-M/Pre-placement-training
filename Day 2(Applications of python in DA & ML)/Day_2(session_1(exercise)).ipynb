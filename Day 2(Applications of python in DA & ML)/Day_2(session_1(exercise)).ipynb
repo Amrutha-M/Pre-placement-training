{
  "nbformat": 4,
  "nbformat_minor": 0,
  "metadata": {
    "colab": {
      "name": "Day 2(session 1(examples)).ipynb",
      "provenance": []
    },
    "kernelspec": {
      "name": "python3",
      "display_name": "Python 3"
    }
  },
  "cells": [
    {
      "cell_type": "markdown",
      "metadata": {
        "id": "btEU8Y52OQqy",
        "colab_type": "text"
      },
      "source": [
        "#List Exercises"
      ]
    },
    {
      "cell_type": "markdown",
      "metadata": {
        "id": "ODgaf7s3OTm9",
        "colab_type": "text"
      },
      "source": [
        "#print multiples of 3 upto 200 using a list"
      ]
    },
    {
      "cell_type": "code",
      "metadata": {
        "id": "-j2B6-UsOWnw",
        "colab_type": "code",
        "colab": {
          "base_uri": "https://localhost:8080/",
          "height": 54
        },
        "outputId": "adf33872-9c93-40d1-9d3a-69cda2d7f5dc"
      },
      "source": [
        "a = [i for i in range(0,200) if i%3==0]\n",
        "print(a)"
      ],
      "execution_count": 17,
      "outputs": [
        {
          "output_type": "stream",
          "text": [
            "[0, 3, 6, 9, 12, 15, 18, 21, 24, 27, 30, 33, 36, 39, 42, 45, 48, 51, 54, 57, 60, 63, 66, 69, 72, 75, 78, 81, 84, 87, 90, 93, 96, 99, 102, 105, 108, 111, 114, 117, 120, 123, 126, 129, 132, 135, 138, 141, 144, 147, 150, 153, 156, 159, 162, 165, 168, 171, 174, 177, 180, 183, 186, 189, 192, 195, 198]\n"
          ],
          "name": "stdout"
        }
      ]
    },
    {
      "cell_type": "markdown",
      "metadata": {
        "id": "_nMQXNjQO1vM",
        "colab_type": "text"
      },
      "source": [
        "#print the nos only divisable by 5 and 7 between 1000 and 2000 using a list( both inclusive)"
      ]
    },
    {
      "cell_type": "code",
      "metadata": {
        "id": "eZEJJS9qO4gJ",
        "colab_type": "code",
        "colab": {
          "base_uri": "https://localhost:8080/",
          "height": 54
        },
        "outputId": "7b87d7ac-e55c-4431-c6f2-2ddcf7d80562"
      },
      "source": [
        "a = [i for i in range(1000,2000) if i%5==0 and i%7==0]\n",
        "print(a)"
      ],
      "execution_count": 18,
      "outputs": [
        {
          "output_type": "stream",
          "text": [
            "[1015, 1050, 1085, 1120, 1155, 1190, 1225, 1260, 1295, 1330, 1365, 1400, 1435, 1470, 1505, 1540, 1575, 1610, 1645, 1680, 1715, 1750, 1785, 1820, 1855, 1890, 1925, 1960, 1995]\n"
          ],
          "name": "stdout"
        }
      ]
    },
    {
      "cell_type": "markdown",
      "metadata": {
        "id": "3G0ooTizPCHv",
        "colab_type": "text"
      },
      "source": [
        "#Add the n number of names in a list and print them alphabetically and reverse alphabetically."
      ]
    },
    {
      "cell_type": "code",
      "metadata": {
        "id": "xGSQp6u6PE5R",
        "colab_type": "code",
        "colab": {
          "base_uri": "https://localhost:8080/",
          "height": 136
        },
        "outputId": "f68612f9-ab7a-4dcb-b3f1-ddafa223b59e"
      },
      "source": [
        "l = []\n",
        "b=[]\n",
        "n =int(input(\"Enter the size\"))\n",
        "for i in range(n):\n",
        "  a = str(input())\n",
        "  l.append(a)\n",
        "b = sorted(l)\n",
        "print(sorted(l))\n",
        "print(b[::-1])\n"
      ],
      "execution_count": 43,
      "outputs": [
        {
          "output_type": "stream",
          "text": [
            "Enter the size4\n",
            "ammu\n",
            "sathu\n",
            "poko\n",
            "kavu\n",
            "['ammu', 'kavu', 'poko', 'sathu']\n",
            "['sathu', 'poko', 'kavu', 'ammu']\n"
          ],
          "name": "stdout"
        }
      ]
    },
    {
      "cell_type": "markdown",
      "metadata": {
        "id": "366kxQrBVUjj",
        "colab_type": "text"
      },
      "source": [
        "#Print  perfect squares and divisible by 5 between 500 and 1000( (both inclusive) using list"
      ]
    },
    {
      "cell_type": "code",
      "metadata": {
        "id": "QwnY70UBVYmA",
        "colab_type": "code",
        "colab": {
          "base_uri": "https://localhost:8080/",
          "height": 34
        },
        "outputId": "f4ba53be-0c67-4cc9-d2ac-4abfb2552704"
      },
      "source": [
        "a =[]\n",
        "for i in range(500,1000):\n",
        "  j =1\n",
        "  while j*j <=i:\n",
        "    if j*j == i:\n",
        "      a.append(i)\n",
        "    j =j+1\n",
        "  i =i+1\n",
        "b = []\n",
        "for i in a:\n",
        "  if(i%5==0):\n",
        "    b.append(i)\n",
        "print(b)"
      ],
      "execution_count": 47,
      "outputs": [
        {
          "output_type": "stream",
          "text": [
            "[625, 900]\n"
          ],
          "name": "stdout"
        }
      ]
    },
    {
      "cell_type": "markdown",
      "metadata": {
        "id": "f22uoOZiXzge",
        "colab_type": "text"
      },
      "source": [
        "#Tuples"
      ]
    },
    {
      "cell_type": "markdown",
      "metadata": {
        "id": "k0LKt675X4tg",
        "colab_type": "text"
      },
      "source": [
        "#Get  a string and store word by word as elements in a tuple and find the largest word in the  tuple and print it\n"
      ]
    },
    {
      "cell_type": "code",
      "metadata": {
        "id": "Da__Q2UkX50C",
        "colab_type": "code",
        "colab": {}
      },
      "source": [
        "s = \"python is good\"\n",
        "a = s.split()\n",
        "t = tuple(i for i in a)\n",
        "print(max(t))"
      ],
      "execution_count": 0,
      "outputs": []
    },
    {
      "cell_type": "markdown",
      "metadata": {
        "id": "d9oVJQzHblhY",
        "colab_type": "text"
      },
      "source": [
        "#Get rollno and marks (Rollno, mark) as list of tuples for n number of students through keyboard  and print them in marks descending order with rollno."
      ]
    },
    {
      "cell_type": "code",
      "metadata": {
        "id": "bPfgaA4ibKoK",
        "colab_type": "code",
        "colab": {
          "base_uri": "https://localhost:8080/",
          "height": 119
        },
        "outputId": "53d2e233-63f0-4c36-8ff1-16d28bf5888c"
      },
      "source": [
        "l = []\n",
        "l1 = []\n",
        "n =int(input(\"Enter the number of students\"))\n",
        "for i in range(n):\n",
        "  l.append(int(input('Enter roll number')))\n",
        "  l1.append(int(input('Enter marks')))\n",
        "a =(l,l1[::-1])\n",
        "print(a)"
      ],
      "execution_count": 87,
      "outputs": [
        {
          "output_type": "stream",
          "text": [
            "Enter the number of students2\n",
            "Enter roll number1\n",
            "Enter marks20\n",
            "Enter roll number2\n",
            "Enter marks30\n",
            "([1, 2], [30, 20])\n"
          ],
          "name": "stdout"
        }
      ]
    },
    {
      "cell_type": "markdown",
      "metadata": {
        "id": "AGVAwJgdgbVd",
        "colab_type": "text"
      },
      "source": [
        "#Get name and salary (name, salary) as list of tuples for n number of employees through keyboard  and print them in name alphabetical order with salary"
      ]
    },
    {
      "cell_type": "code",
      "metadata": {
        "id": "rdixNcfDb5oG",
        "colab_type": "code",
        "colab": {
          "base_uri": "https://localhost:8080/",
          "height": 119
        },
        "outputId": "93c01119-b3d1-4c6e-a00d-7e0e3f5ae1f6"
      },
      "source": [
        "l = []\n",
        "l1 = []\n",
        "n =int(input(\"Enter the number of emp\"))\n",
        "for i in range(n):\n",
        "  l.append(str(input('Enter name')))\n",
        "  l1.append(int(input('Enter salary')))\n",
        "  a =(sorted(l),l1)\n",
        "print(a)"
      ],
      "execution_count": 90,
      "outputs": [
        {
          "output_type": "stream",
          "text": [
            "Enter the number of emp2\n",
            "Enter nameammu\n",
            "Enter salary200\n",
            "Enter nameabhi\n",
            "Enter salary300\n",
            "(['abhi', 'ammu'], [200, 300])\n"
          ],
          "name": "stdout"
        }
      ]
    }
  ]
}