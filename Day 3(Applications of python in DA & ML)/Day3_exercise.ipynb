{
 "cells": [
  {
   "cell_type": "markdown",
   "metadata": {
    "colab_type": "text",
    "id": "Frir2qgw0pfd"
   },
   "source": [
    "#EXCERCISES\n",
    "\n"
   ]
  },
  {
   "cell_type": "markdown",
   "metadata": {
    "colab_type": "text",
    "id": "JHyw4ERFio9b"
   },
   "source": [
    "#Write a Pandas program to create and display a one-dimensional array using series  containing  event numbers upto 10000\n",
    "#tip : use List Comprehension\n",
    "#ds = pd.Series([0,2, 4, 6, 8..... 10000]) \n",
    "\n"
   ]
  },
  {
   "cell_type": "code",
   "execution_count": 1,
   "metadata": {
    "colab": {
     "base_uri": "https://localhost:8080/",
     "height": 217
    },
    "colab_type": "code",
    "id": "8UuwZ9CMipeM",
    "outputId": "774ca560-a36e-46cf-e4d0-04e0d98bb6bb"
   },
   "outputs": [
    {
     "name": "stdout",
     "output_type": "stream",
     "text": [
      "0          0\n",
      "1          2\n",
      "2          4\n",
      "3          6\n",
      "4          8\n",
      "        ... \n",
      "4995    9990\n",
      "4996    9992\n",
      "4997    9994\n",
      "4998    9996\n",
      "4999    9998\n",
      "Length: 5000, dtype: int64\n"
     ]
    }
   ],
   "source": [
    "import pandas as pd\n",
    "ds = pd.Series([x for x in range(10000) if x%2==0])\n",
    "print(ds)"
   ]
  },
  {
   "cell_type": "markdown",
   "metadata": {
    "colab_type": "text",
    "id": "UdMSjmXEjdNS"
   },
   "source": [
    "#Write a Pandas program to convert a Panda module Series of the numbers which are between 1000 and 2000 (both inclusive) and divisable by 5 to Python list and  after convertion print its type "
   ]
  },
  {
   "cell_type": "code",
   "execution_count": 4,
   "metadata": {
    "colab": {
     "base_uri": "https://localhost:8080/",
     "height": 217
    },
    "colab_type": "code",
    "id": "6EIZidVYjdeP",
    "outputId": "a59e9625-64c5-4c34-9040-96af9783c5cd"
   },
   "outputs": [
    {
     "name": "stdout",
     "output_type": "stream",
     "text": [
      "0      1000\n",
      "1      1005\n",
      "2      1010\n",
      "3      1015\n",
      "4      1020\n",
      "       ... \n",
      "195    1975\n",
      "196    1980\n",
      "197    1985\n",
      "198    1990\n",
      "199    1995\n",
      "Length: 200, dtype: int64\n"
     ]
    }
   ],
   "source": [
    "import pandas as pd\n",
    "ds = pd.Series([x for x in range(1000,2000) if x%5==0])\n",
    "print(ds)"
   ]
  },
  {
   "cell_type": "markdown",
   "metadata": {
    "colab_type": "text",
    "id": "4qPdW_alj6-W"
   },
   "source": [
    "#Write a Pandas program to add, subtract, multiple and divide two Pandas Series and print their results using the Sample Series: [2, 4, 6, 8, ...100], [1, 3, 5, 7, 9...99]\n",
    "\n"
   ]
  },
  {
   "cell_type": "code",
   "execution_count": 7,
   "metadata": {
    "colab": {
     "base_uri": "https://localhost:8080/",
     "height": 485
    },
    "colab_type": "code",
    "id": "3QVHa2Y8j7Mt",
    "outputId": "33f9a12d-828e-413a-9837-9efcbce68617"
   },
   "outputs": [
    {
     "name": "stdout",
     "output_type": "stream",
     "text": [
      "Add two Series:\n",
      "0     3\n",
      "1     7\n",
      "2    11\n",
      "3    15\n",
      "4    19\n",
      "dtype: int64\n",
      "Subtract two Series:\n",
      "0    1\n",
      "1    1\n",
      "2    1\n",
      "3    1\n",
      "4    1\n",
      "dtype: int64\n",
      "Multiply two Series:\n",
      "0     2\n",
      "1    12\n",
      "2    30\n",
      "3    56\n",
      "4    90\n",
      "dtype: int64\n",
      "Divide Series1 by Series2:\n",
      "0    2.000000\n",
      "1    1.333333\n",
      "2    1.200000\n",
      "3    1.142857\n",
      "4    1.111111\n",
      "dtype: float64\n"
     ]
    }
   ],
   "source": [
    "import pandas as pd\n",
    "ds1 = pd.Series([2, 4, 6, 8, 10])\n",
    "ds2 = pd.Series([1, 3, 5, 7, 9])\n",
    "ds = ds1 + ds2\n",
    "print(\"Add two Series:\")\n",
    "print(ds)\n",
    "print(\"Subtract two Series:\")\n",
    "ds = ds1 - ds2\n",
    "print(ds)\n",
    "print(\"Multiply two Series:\")\n",
    "ds = ds1 * ds2\n",
    "print(ds)\n",
    "print(\"Divide Series1 by Series2:\")\n",
    "ds = ds1 / ds2\n",
    "print(ds)\n"
   ]
  },
  {
   "cell_type": "markdown",
   "metadata": {
    "colab_type": "text",
    "id": "NteJ8jXMk8gJ"
   },
   "source": [
    "# Write a Pandas program to compare (Equivalence, greater than, less than, not equal to )the elements of the two Pandas Series.\n",
    "#Sample Series: [All positive numbers divisable by 7 upto 1000], [All positive numbers divisable by 11 upto 1000]\n"
   ]
  },
  {
   "cell_type": "code",
   "execution_count": 26,
   "metadata": {
    "colab": {
     "base_uri": "https://localhost:8080/",
     "height": 619
    },
    "colab_type": "code",
    "id": "q2wLN6Nlk8v6",
    "outputId": "b2f51f51-293d-468f-c9fb-8dc6fa943956"
   },
   "outputs": [
    {
     "name": "stdout",
     "output_type": "stream",
     "text": [
      "Series1:\n",
      "0        0\n",
      "1        7\n",
      "2       14\n",
      "3       21\n",
      "4       28\n",
      "      ... \n",
      "138    966\n",
      "139    973\n",
      "140    980\n",
      "141    987\n",
      "142    994\n",
      "Length: 143, dtype: int64\n",
      "Series2:\n",
      "0       0\n",
      "1      11\n",
      "2      22\n",
      "3      33\n",
      "4      44\n",
      "     ... \n",
      "86    946\n",
      "87    957\n",
      "88    968\n",
      "89    979\n",
      "90    990\n",
      "Length: 91, dtype: int64\n",
      "Compare the elements of the said Series:\n",
      "Equals:\n",
      "0   True\n",
      "1   False\n",
      "2   False\n",
      "3   False\n",
      "4   False\n",
      "5   False\n",
      "6   False\n",
      "7   False\n",
      "8   False\n",
      "9   False\n",
      "10   False\n",
      "11   False\n",
      "12   False\n",
      "13   False\n",
      "14   False\n",
      "15   False\n",
      "16   False\n",
      "17   False\n",
      "18   False\n",
      "19   False\n",
      "20   False\n",
      "21   False\n",
      "22   False\n",
      "23   False\n",
      "24   False\n",
      "25   False\n",
      "26   False\n",
      "27   False\n",
      "28   False\n",
      "29   False\n",
      "30   False\n",
      "31   False\n",
      "32   False\n",
      "33   False\n",
      "34   False\n",
      "35   False\n",
      "36   False\n",
      "37   False\n",
      "38   False\n",
      "39   False\n",
      "40   False\n",
      "41   False\n",
      "42   False\n",
      "43   False\n",
      "44   False\n",
      "45   False\n",
      "46   False\n",
      "47   False\n",
      "48   False\n",
      "49   False\n",
      "50   False\n",
      "51   False\n",
      "52   False\n",
      "53   False\n",
      "54   False\n",
      "55   False\n",
      "56   False\n",
      "57   False\n",
      "58   False\n",
      "59   False\n",
      "60   False\n",
      "61   False\n",
      "62   False\n",
      "63   False\n",
      "64   False\n",
      "65   False\n",
      "66   False\n",
      "67   False\n",
      "68   False\n",
      "69   False\n",
      "70   False\n",
      "71   False\n",
      "72   False\n",
      "73   False\n",
      "74   False\n",
      "75   False\n",
      "76   False\n",
      "77   False\n",
      "78   False\n",
      "79   False\n",
      "80   False\n",
      "81   False\n",
      "82   False\n",
      "83   False\n",
      "84   False\n",
      "85   False\n",
      "86   False\n",
      "87   False\n",
      "88   False\n",
      "89   False\n",
      "90   False\n",
      "0   False\n",
      "1   False\n",
      "2   False\n",
      "3   False\n",
      "4   False\n",
      "5   False\n",
      "6   False\n",
      "7   False\n",
      "8   False\n",
      "9   False\n",
      "10   False\n",
      "11   False\n",
      "12   False\n",
      "13   False\n",
      "14   False\n",
      "15   False\n",
      "16   False\n",
      "17   False\n",
      "18   False\n",
      "19   False\n",
      "20   False\n",
      "21   False\n",
      "22   False\n",
      "23   False\n",
      "24   False\n",
      "25   False\n",
      "26   False\n",
      "27   False\n",
      "28   False\n",
      "29   False\n",
      "30   False\n",
      "31   False\n",
      "32   False\n",
      "33   False\n",
      "34   False\n",
      "35   False\n",
      "36   False\n",
      "37   False\n",
      "38   False\n",
      "39   False\n",
      "40   False\n",
      "41   False\n",
      "42   False\n",
      "43   False\n",
      "44   False\n",
      "45   False\n",
      "46   False\n",
      "47   False\n",
      "48   False\n",
      "49   False\n",
      "50   False\n",
      "51   False\n",
      "52   False\n",
      "53   False\n",
      "54   False\n",
      "55   False\n",
      "56   False\n",
      "57   False\n",
      "58   False\n",
      "59   False\n",
      "60   False\n",
      "61   False\n",
      "62   False\n",
      "63   False\n",
      "64   False\n",
      "65   False\n",
      "66   False\n",
      "67   False\n",
      "68   False\n",
      "69   False\n",
      "70   False\n",
      "71   False\n",
      "72   False\n",
      "73   False\n",
      "74   False\n",
      "75   False\n",
      "76   False\n",
      "77   False\n",
      "78   False\n",
      "79   False\n",
      "80   False\n",
      "81   False\n",
      "82   False\n",
      "83   False\n",
      "84   False\n",
      "85   False\n",
      "86   False\n",
      "87   False\n",
      "88   False\n",
      "89   False\n",
      "90   False\n",
      "0   False\n",
      "1   True\n",
      "2   True\n",
      "3   True\n",
      "4   True\n",
      "5   True\n",
      "6   True\n",
      "7   True\n",
      "8   True\n",
      "9   True\n",
      "10   True\n",
      "11   True\n",
      "12   True\n",
      "13   True\n",
      "14   True\n",
      "15   True\n",
      "16   True\n",
      "17   True\n",
      "18   True\n",
      "19   True\n",
      "20   True\n",
      "21   True\n",
      "22   True\n",
      "23   True\n",
      "24   True\n",
      "25   True\n",
      "26   True\n",
      "27   True\n",
      "28   True\n",
      "29   True\n",
      "30   True\n",
      "31   True\n",
      "32   True\n",
      "33   True\n",
      "34   True\n",
      "35   True\n",
      "36   True\n",
      "37   True\n",
      "38   True\n",
      "39   True\n",
      "40   True\n",
      "41   True\n",
      "42   True\n",
      "43   True\n",
      "44   True\n",
      "45   True\n",
      "46   True\n",
      "47   True\n",
      "48   True\n",
      "49   True\n",
      "50   True\n",
      "51   True\n",
      "52   True\n",
      "53   True\n",
      "54   True\n",
      "55   True\n",
      "56   True\n",
      "57   True\n",
      "58   True\n",
      "59   True\n",
      "60   True\n",
      "61   True\n",
      "62   True\n",
      "63   True\n",
      "64   True\n",
      "65   True\n",
      "66   True\n",
      "67   True\n",
      "68   True\n",
      "69   True\n",
      "70   True\n",
      "71   True\n",
      "72   True\n",
      "73   True\n",
      "74   True\n",
      "75   True\n",
      "76   True\n",
      "77   True\n",
      "78   True\n",
      "79   True\n",
      "80   True\n",
      "81   True\n",
      "82   True\n",
      "83   True\n",
      "84   True\n",
      "85   True\n",
      "86   True\n",
      "87   True\n",
      "88   True\n",
      "89   True\n",
      "90   True\n",
      "0   False\n",
      "1   True\n",
      "2   True\n",
      "3   True\n",
      "4   True\n",
      "5   True\n",
      "6   True\n",
      "7   True\n",
      "8   True\n",
      "9   True\n",
      "10   True\n",
      "11   True\n",
      "12   True\n",
      "13   True\n",
      "14   True\n",
      "15   True\n",
      "16   True\n",
      "17   True\n",
      "18   True\n",
      "19   True\n",
      "20   True\n",
      "21   True\n",
      "22   True\n",
      "23   True\n",
      "24   True\n",
      "25   True\n",
      "26   True\n",
      "27   True\n",
      "28   True\n",
      "29   True\n",
      "30   True\n",
      "31   True\n",
      "32   True\n",
      "33   True\n",
      "34   True\n",
      "35   True\n",
      "36   True\n",
      "37   True\n",
      "38   True\n",
      "39   True\n",
      "40   True\n",
      "41   True\n",
      "42   True\n",
      "43   True\n",
      "44   True\n",
      "45   True\n",
      "46   True\n",
      "47   True\n",
      "48   True\n",
      "49   True\n",
      "50   True\n",
      "51   True\n",
      "52   True\n",
      "53   True\n",
      "54   True\n",
      "55   True\n",
      "56   True\n",
      "57   True\n",
      "58   True\n",
      "59   True\n",
      "60   True\n",
      "61   True\n",
      "62   True\n",
      "63   True\n",
      "64   True\n",
      "65   True\n",
      "66   True\n",
      "67   True\n",
      "68   True\n",
      "69   True\n",
      "70   True\n",
      "71   True\n",
      "72   True\n",
      "73   True\n",
      "74   True\n",
      "75   True\n",
      "76   True\n",
      "77   True\n",
      "78   True\n",
      "79   True\n",
      "80   True\n",
      "81   True\n",
      "82   True\n",
      "83   True\n",
      "84   True\n",
      "85   True\n",
      "86   True\n",
      "87   True\n",
      "88   True\n",
      "89   True\n",
      "90   True\n"
     ]
    }
   ],
   "source": [
    "import pandas as pd\n",
    "ds1 = pd.Series([i for i in range(1000) if i%7==0])\n",
    "ds2 = pd.Series([j for j in range(1000) if j%11==0])\n",
    "print(\"Series1:\")\n",
    "print(ds1)\n",
    "print(\"Series2:\")\n",
    "print(ds2)\n",
    "print(\"Compare the elements of the said Series:\")\n",
    "print(\"Equals:\")\n",
    "for i in range(len(ds2)):\n",
    "    print(i,\" \",ds1[i]==ds2[i])\n",
    "for i in range(len(ds2)):\n",
    "    print(i,\" \",ds1[i]>ds2[i])\n",
    "for i in range(len(ds2)):\n",
    "    print(i,\" \",ds1[i]<ds2[i])\n",
    "for i in range(len(ds2)):\n",
    "    print(i,\" \",ds1[i]!=ds2[i])\n"
   ]
  },
  {
   "cell_type": "markdown",
   "metadata": {
    "colab_type": "text",
    "id": "amM7RflmlNQd"
   },
   "source": [
    "#Write a Pandas program to convert a NumPy array to a Pandas series. \n",
    "#Sample NumPy array: d1 = [10, 20, 30, 40, 50... 1000]\n"
   ]
  },
  {
   "cell_type": "code",
   "execution_count": 8,
   "metadata": {
    "colab": {
     "base_uri": "https://localhost:8080/",
     "height": 167
    },
    "colab_type": "code",
    "id": "tkgMF9OQlNkg",
    "outputId": "a247c855-53d5-4cd6-a19e-07a776df7679"
   },
   "outputs": [
    {
     "name": "stdout",
     "output_type": "stream",
     "text": [
      "NumPy array:\n",
      "[  0  10  20  30  40  50  60  70  80  90 100 110 120 130 140 150 160 170\n",
      " 180 190 200 210 220 230 240 250 260 270 280 290 300 310 320 330 340 350\n",
      " 360 370 380 390 400 410 420 430 440 450 460 470 480 490 500 510 520 530\n",
      " 540 550 560 570 580 590 600 610 620 630 640 650 660 670 680 690 700 710\n",
      " 720 730 740 750 760 770 780 790 800 810 820 830 840 850 860 870 880 890\n",
      " 900 910 920 930 940 950 960 970 980 990]\n",
      "Converted Pandas series:\n",
      "0       0\n",
      "1      10\n",
      "2      20\n",
      "3      30\n",
      "4      40\n",
      "     ... \n",
      "95    950\n",
      "96    960\n",
      "97    970\n",
      "98    980\n",
      "99    990\n",
      "Length: 100, dtype: int32\n"
     ]
    }
   ],
   "source": [
    "import numpy as np\n",
    "import pandas as pd\n",
    "np_array = np.array([m for m in range(1000) if m%10==0])\n",
    "print(\"NumPy array:\")\n",
    "print(np_array)\n",
    "new_series = pd.Series(np_array)\n",
    "print(\"Converted Pandas series:\")\n",
    "print(new_series)"
   ]
  },
  {
   "cell_type": "markdown",
   "metadata": {
    "colab_type": "text",
    "id": "WCGxPaWAlete"
   },
   "source": [
    "#Write a Pandas program to convert a given Series to an array.\n",
    "#Sample series is ['100', '200', ‘300’,’400’,’500’,'python', '300.12', '400',’is’,’great’,’language’]\n",
    " \n"
   ]
  },
  {
   "cell_type": "code",
   "execution_count": 9,
   "metadata": {
    "colab": {
     "base_uri": "https://localhost:8080/",
     "height": 284
    },
    "colab_type": "code",
    "id": "kTIv6NXnle7X",
    "outputId": "de367d3b-ef06-499e-adbc-b0f9f3e722d6"
   },
   "outputs": [
    {
     "name": "stdout",
     "output_type": "stream",
     "text": [
      "Original Data Series:\n",
      "0          100\n",
      "1          200\n",
      "2          300\n",
      "3          400\n",
      "4          500\n",
      "5       python\n",
      "6       300.12\n",
      "7          400\n",
      "8           is\n",
      "9        great\n",
      "10    language\n",
      "dtype: object\n",
      "Series to an array\n",
      "['100' '200' '300' '400' '500' 'python' '300.12' '400' 'is' 'great'\n",
      " 'language']\n"
     ]
    }
   ],
   "source": [
    "import pandas as pd\n",
    "import numpy as np\n",
    "s1 = pd.Series(['100', '200', '300','400','500','python', '300.12', '400','is','great','language'])\n",
    "print(\"Original Data Series:\")\n",
    "print(s1)\n",
    "print(\"Series to an array\")\n",
    "a = np.array(s1)\n",
    "print (a)"
   ]
  },
  {
   "cell_type": "markdown",
   "metadata": {
    "colab_type": "text",
    "id": "qQcnP7oBl9On"
   },
   "source": [
    "#Write a Pandas program to sort a given Series.\n",
    "#Sample series is ['100', '200', ‘300’,’400’,’500’,'python', '300.12', '400',’is’,’great’,’language’]\n",
    "\n"
   ]
  },
  {
   "cell_type": "code",
   "execution_count": 10,
   "metadata": {
    "colab": {
     "base_uri": "https://localhost:8080/",
     "height": 284
    },
    "colab_type": "code",
    "id": "pCtK4_fll9eO",
    "outputId": "0d201826-08b1-46e7-9c2d-607419bf89f4"
   },
   "outputs": [
    {
     "name": "stdout",
     "output_type": "stream",
     "text": [
      "Original Data Series:\n",
      "0          100\n",
      "1          200\n",
      "2          300\n",
      "3          400\n",
      "4          500\n",
      "5       python\n",
      "6       300.12\n",
      "7          400\n",
      "8           is\n",
      "9        great\n",
      "10    language\n",
      "dtype: object\n",
      "Series to an array\n",
      "['100' '200' '300' '300.12' '400' '400' '500' 'great' 'is' 'language'\n",
      " 'python']\n"
     ]
    }
   ],
   "source": [
    "import pandas as pd\n",
    "import numpy as np\n",
    "s1 = pd.Series(['100', '200', '300','400','500','python', '300.12', '400','is','great','language'])\n",
    "print(\"Original Data Series:\")\n",
    "print(s1)\n",
    "print(\"Series to an array\")\n",
    "a = np.array(s1)\n",
    "a.sort()\n",
    "print (a)"
   ]
  },
  {
   "cell_type": "markdown",
   "metadata": {
    "colab_type": "text",
    "id": "m0b0GyvimSH5"
   },
   "source": [
    "#Write a Pandas program to create a subsets of a given series based on value and condition.\n",
    "#Sample NumPy array: d1 = [10, 20, 30, 40, 50... 1000]\n",
    "# value and condtion :  Subset 1 :numbers divisable by 7  Subset 2 : numbers divisable by 5\n",
    "\n"
   ]
  },
  {
   "cell_type": "code",
   "execution_count": 14,
   "metadata": {
    "colab": {
     "base_uri": "https://localhost:8080/",
     "height": 385
    },
    "colab_type": "code",
    "id": "Guhor21NmSV0",
    "outputId": "dd42808e-6b6c-4c58-c107-538838fb57de"
   },
   "outputs": [
    {
     "name": "stdout",
     "output_type": "stream",
     "text": [
      "Original Data Series:\n",
      "0       0\n",
      "1      10\n",
      "2      20\n",
      "3      30\n",
      "4      40\n",
      "     ... \n",
      "95    950\n",
      "96    960\n",
      "97    970\n",
      "98    980\n",
      "99    990\n",
      "Length: 100, dtype: int64\n",
      "\n",
      "Subset 1:\n",
      "0       0\n",
      "7      70\n",
      "14    140\n",
      "21    210\n",
      "28    280\n",
      "35    350\n",
      "42    420\n",
      "49    490\n",
      "56    560\n",
      "63    630\n",
      "70    700\n",
      "77    770\n",
      "84    840\n",
      "91    910\n",
      "98    980\n",
      "dtype: int64\n",
      "\n",
      "Subset 2:\n",
      "0       0\n",
      "1      10\n",
      "2      20\n",
      "3      30\n",
      "4      40\n",
      "     ... \n",
      "95    950\n",
      "96    960\n",
      "97    970\n",
      "98    980\n",
      "99    990\n",
      "Length: 100, dtype: int64\n"
     ]
    }
   ],
   "source": [
    "import pandas as pd\n",
    "s = pd.Series([i for i in range(1000) if i%10==0])\n",
    "print(\"Original Data Series:\")\n",
    "print(s)\n",
    "print(\"\\nSubset 1:\")\n",
    "new_s = s[s%7==0]\n",
    "print(new_s)\n",
    "print(\"\\nSubset 2:\")\n",
    "new_s1 = s[s%5==0]\n",
    "print(new_s1)"
   ]
  },
  {
   "cell_type": "markdown",
   "metadata": {
    "colab_type": "text",
    "id": "084fs_Y9mmWC"
   },
   "source": [
    "#Write a Pandas program to create the mean and standard deviation, maximum and minimum of the data of a given Series of the prime numbers upto 1000"
   ]
  },
  {
   "cell_type": "code",
   "execution_count": 16,
   "metadata": {
    "colab": {
     "base_uri": "https://localhost:8080/",
     "height": 301
    },
    "colab_type": "code",
    "id": "XGMa7pEommlp",
    "outputId": "9ae7280f-1c80-4344-e1f2-8fd4245a1c25"
   },
   "outputs": [
    {
     "name": "stdout",
     "output_type": "stream",
     "text": [
      "Original Data Series:\n",
      "0        0\n",
      "1        2\n",
      "2        4\n",
      "3        6\n",
      "4        8\n",
      "      ... \n",
      "495    990\n",
      "496    992\n",
      "497    994\n",
      "498    996\n",
      "499    998\n",
      "Length: 500, dtype: int64\n",
      "Mean of the said Data Series:\n",
      "499.0\n",
      "Standard deviation of the said Data Series:\n",
      "288.9636655359978\n"
     ]
    }
   ],
   "source": [
    "import pandas as pd\n",
    "s = pd.Series(data = [x for x in range(1000) if x%2==0])\n",
    "print(\"Original Data Series:\")\n",
    "print(s)\n",
    "print(\"Mean of the said Data Series:\")\n",
    "print(s.mean())\n",
    "print(\"Standard deviation of the said Data Series:\")\n",
    "print(s.std())"
   ]
  },
  {
   "cell_type": "markdown",
   "metadata": {
    "colab_type": "text",
    "id": "rGGwNI_onEwl"
   },
   "source": [
    "#Write a Pandas program to get the elements of an array values into column-wise.\n",
    "#Sample data: {‘X’:[All odd numbers but not divisable by 7 upto 1000], 'Y':[ All even numbers but not divisable by 5 upto 1000 ],'Z':[ All odd numbers but not divisable by 3 upto 1000]}\n"
   ]
  },
  {
   "cell_type": "code",
   "execution_count": 61,
   "metadata": {
    "colab": {
     "base_uri": "https://localhost:8080/",
     "height": 117
    },
    "colab_type": "code",
    "id": "4DKWk1omnE_9",
    "outputId": "13dece86-fe0a-4c42-9593-9519ffa68455"
   },
   "outputs": [
    {
     "data": {
      "text/html": [
       "<div>\n",
       "<style scoped>\n",
       "    .dataframe tbody tr th:only-of-type {\n",
       "        vertical-align: middle;\n",
       "    }\n",
       "\n",
       "    .dataframe tbody tr th {\n",
       "        vertical-align: top;\n",
       "    }\n",
       "\n",
       "    .dataframe thead th {\n",
       "        text-align: right;\n",
       "    }\n",
       "</style>\n",
       "<table border=\"1\" class=\"dataframe\">\n",
       "  <thead>\n",
       "    <tr style=\"text-align: right;\">\n",
       "      <th></th>\n",
       "      <th>X</th>\n",
       "      <th>Y</th>\n",
       "      <th>Z</th>\n",
       "    </tr>\n",
       "  </thead>\n",
       "  <tbody>\n",
       "    <tr>\n",
       "      <td>0</td>\n",
       "      <td>1</td>\n",
       "      <td>2.0</td>\n",
       "      <td>1.0</td>\n",
       "    </tr>\n",
       "    <tr>\n",
       "      <td>1</td>\n",
       "      <td>3</td>\n",
       "      <td>4.0</td>\n",
       "      <td>5.0</td>\n",
       "    </tr>\n",
       "    <tr>\n",
       "      <td>2</td>\n",
       "      <td>5</td>\n",
       "      <td>6.0</td>\n",
       "      <td>7.0</td>\n",
       "    </tr>\n",
       "    <tr>\n",
       "      <td>3</td>\n",
       "      <td>9</td>\n",
       "      <td>8.0</td>\n",
       "      <td>11.0</td>\n",
       "    </tr>\n",
       "    <tr>\n",
       "      <td>4</td>\n",
       "      <td>11</td>\n",
       "      <td>12.0</td>\n",
       "      <td>13.0</td>\n",
       "    </tr>\n",
       "    <tr>\n",
       "      <td>...</td>\n",
       "      <td>...</td>\n",
       "      <td>...</td>\n",
       "      <td>...</td>\n",
       "    </tr>\n",
       "    <tr>\n",
       "      <td>424</td>\n",
       "      <td>991</td>\n",
       "      <td>NaN</td>\n",
       "      <td>NaN</td>\n",
       "    </tr>\n",
       "    <tr>\n",
       "      <td>425</td>\n",
       "      <td>993</td>\n",
       "      <td>NaN</td>\n",
       "      <td>NaN</td>\n",
       "    </tr>\n",
       "    <tr>\n",
       "      <td>426</td>\n",
       "      <td>995</td>\n",
       "      <td>NaN</td>\n",
       "      <td>NaN</td>\n",
       "    </tr>\n",
       "    <tr>\n",
       "      <td>427</td>\n",
       "      <td>997</td>\n",
       "      <td>NaN</td>\n",
       "      <td>NaN</td>\n",
       "    </tr>\n",
       "    <tr>\n",
       "      <td>428</td>\n",
       "      <td>999</td>\n",
       "      <td>NaN</td>\n",
       "      <td>NaN</td>\n",
       "    </tr>\n",
       "  </tbody>\n",
       "</table>\n",
       "<p>429 rows × 3 columns</p>\n",
       "</div>"
      ],
      "text/plain": [
       "       X     Y     Z\n",
       "0      1   2.0   1.0\n",
       "1      3   4.0   5.0\n",
       "2      5   6.0   7.0\n",
       "3      9   8.0  11.0\n",
       "4     11  12.0  13.0\n",
       "..   ...   ...   ...\n",
       "424  991   NaN   NaN\n",
       "425  993   NaN   NaN\n",
       "426  995   NaN   NaN\n",
       "427  997   NaN   NaN\n",
       "428  999   NaN   NaN\n",
       "\n",
       "[429 rows x 3 columns]"
      ]
     },
     "execution_count": 61,
     "metadata": {},
     "output_type": "execute_result"
    }
   ],
   "source": [
    "import pandas as pd\n",
    "a =[x for x in range(1000) if (x%2!=0)and(x%7!=0)]\n",
    "b =[y for y in range(1000) if (y%2==0)and(y%5!=0)]\n",
    "c=[z for z in range(1000) if (z%2!=0)and(z%3!=0)]\n",
    "s1=pd.Series(a)\n",
    "s2=pd.Series(b)\n",
    "s3=pd.Series(c)\n",
    "df = pd.DataFrame({'X':s1,'Y':s2,'Z':s3})\n",
    "df"
   ]
  },
  {
   "cell_type": "markdown",
   "metadata": {
    "colab_type": "text",
    "id": "NmoaK-rmoD_y"
   },
   "source": [
    "#Write a Pandas program to display the first 10 rows of the DataFrame for any particular three fields."
   ]
  },
  {
   "cell_type": "code",
   "execution_count": 52,
   "metadata": {
    "colab": {
     "base_uri": "https://localhost:8080/",
     "height": 100
    },
    "colab_type": "code",
    "id": "hAPdwLgFoEU3",
    "outputId": "019e8040-78a5-414d-dc13-39b25c2abc6e"
   },
   "outputs": [
    {
     "name": "stdout",
     "output_type": "stream",
     "text": [
      "First three rows of the data frame:\n"
     ]
    },
    {
     "data": {
      "text/html": [
       "<div>\n",
       "<style scoped>\n",
       "    .dataframe tbody tr th:only-of-type {\n",
       "        vertical-align: middle;\n",
       "    }\n",
       "\n",
       "    .dataframe tbody tr th {\n",
       "        vertical-align: top;\n",
       "    }\n",
       "\n",
       "    .dataframe thead th {\n",
       "        text-align: right;\n",
       "    }\n",
       "</style>\n",
       "<table border=\"1\" class=\"dataframe\">\n",
       "  <thead>\n",
       "    <tr style=\"text-align: right;\">\n",
       "      <th></th>\n",
       "      <th>name</th>\n",
       "      <th>score</th>\n",
       "      <th>attempts</th>\n",
       "    </tr>\n",
       "  </thead>\n",
       "  <tbody>\n",
       "    <tr>\n",
       "      <td>a</td>\n",
       "      <td>Anastasia</td>\n",
       "      <td>12.5</td>\n",
       "      <td>1</td>\n",
       "    </tr>\n",
       "    <tr>\n",
       "      <td>b</td>\n",
       "      <td>Dima</td>\n",
       "      <td>9.0</td>\n",
       "      <td>3</td>\n",
       "    </tr>\n",
       "    <tr>\n",
       "      <td>c</td>\n",
       "      <td>Katherine</td>\n",
       "      <td>16.5</td>\n",
       "      <td>2</td>\n",
       "    </tr>\n",
       "    <tr>\n",
       "      <td>d</td>\n",
       "      <td>James</td>\n",
       "      <td>NaN</td>\n",
       "      <td>3</td>\n",
       "    </tr>\n",
       "    <tr>\n",
       "      <td>e</td>\n",
       "      <td>Emily</td>\n",
       "      <td>9.0</td>\n",
       "      <td>2</td>\n",
       "    </tr>\n",
       "    <tr>\n",
       "      <td>f</td>\n",
       "      <td>Michael</td>\n",
       "      <td>20.0</td>\n",
       "      <td>3</td>\n",
       "    </tr>\n",
       "    <tr>\n",
       "      <td>g</td>\n",
       "      <td>Matthew</td>\n",
       "      <td>14.5</td>\n",
       "      <td>1</td>\n",
       "    </tr>\n",
       "    <tr>\n",
       "      <td>h</td>\n",
       "      <td>Laura</td>\n",
       "      <td>NaN</td>\n",
       "      <td>1</td>\n",
       "    </tr>\n",
       "    <tr>\n",
       "      <td>i</td>\n",
       "      <td>Kevin</td>\n",
       "      <td>8.0</td>\n",
       "      <td>2</td>\n",
       "    </tr>\n",
       "    <tr>\n",
       "      <td>j</td>\n",
       "      <td>Jonas</td>\n",
       "      <td>19.0</td>\n",
       "      <td>1</td>\n",
       "    </tr>\n",
       "  </tbody>\n",
       "</table>\n",
       "</div>"
      ],
      "text/plain": [
       "        name  score  attempts\n",
       "a  Anastasia   12.5         1\n",
       "b       Dima    9.0         3\n",
       "c  Katherine   16.5         2\n",
       "d      James    NaN         3\n",
       "e      Emily    9.0         2\n",
       "f    Michael   20.0         3\n",
       "g    Matthew   14.5         1\n",
       "h      Laura    NaN         1\n",
       "i      Kevin    8.0         2\n",
       "j      Jonas   19.0         1"
      ]
     },
     "execution_count": 52,
     "metadata": {},
     "output_type": "execute_result"
    }
   ],
   "source": [
    "import pandas as pd\n",
    "import numpy as np\n",
    "\n",
    "exam_data  = {'name': ['Anastasia', 'Dima', 'Katherine', 'James', 'Emily', 'Michael', 'Matthew', 'Laura', 'Kevin', 'Jonas'],\n",
    "        'score': [12.5, 9, 16.5, np.nan, 9, 20, 14.5, np.nan, 8, 19],\n",
    "        'attempts': [1, 3, 2, 3, 2, 3, 1, 1, 2, 1],\n",
    "        'qualify': ['yes', 'no', 'yes', 'no', 'no', 'yes', 'yes', 'no', 'no', 'yes']}\n",
    "labels = ['a', 'b', 'c', 'd', 'e', 'f', 'g', 'h', 'i', 'j']\n",
    "\n",
    "df = pd.DataFrame(exam_data , index=labels)\n",
    "print(\"First three rows of the data frame:\")\n",
    "df1 = df[['name','score','attempts']]\n",
    "df1.head(10)"
   ]
  },
  {
   "cell_type": "markdown",
   "metadata": {
    "colab_type": "text",
    "id": "W8Ll2N9qoWge"
   },
   "source": [
    "#Write a Pandas program to display the first 10 rows of the DataFrame for any particular three fields.(movie_metadata.csv)"
   ]
  },
  {
   "cell_type": "code",
   "execution_count": 30,
   "metadata": {
    "colab": {
     "base_uri": "https://localhost:8080/",
     "height": 137
    },
    "colab_type": "code",
    "id": "QnxszlCCqASr",
    "outputId": "e1895f14-5b8e-4420-c775-dff0bcbe7015"
   },
   "outputs": [
    {
     "name": "stdout",
     "output_type": "stream",
     "text": [
      "  language country  duration\n",
      "0  English     USA     178.0\n",
      "1  English     USA     169.0\n",
      "2  English      UK     148.0\n",
      "3  English     USA     164.0\n",
      "4      NaN     NaN       NaN\n",
      "5  English     USA     132.0\n",
      "6  English     USA     156.0\n",
      "7  English     USA     100.0\n",
      "8  English     USA     141.0\n",
      "9  English      UK     153.0\n"
     ]
    }
   ],
   "source": [
    "import pandas as pd\n",
    "xyz = pd.read_csv('movie_metadata.csv') \n",
    "df = xyz[['language','country','duration']]\n",
    "print(df.head(10))"
   ]
  },
  {
   "cell_type": "markdown",
   "metadata": {
    "colab_type": "text",
    "id": "whkZ8BvIqFSE"
   },
   "source": [
    "\n",
    "#Write a Pandas program to find the mean and standard deviation, maximum and minimum of the data of  50 students Python marks stored in a CSV file called Python_mark.csv( you have to create the file yourself like rollno,mark for 50 records)\n"
   ]
  },
  {
   "cell_type": "code",
   "execution_count": 66,
   "metadata": {},
   "outputs": [
    {
     "name": "stdout",
     "output_type": "stream",
     "text": [
      "roll number    25.50\n",
      "marks          23.14\n",
      "dtype: float64\n",
      "roll number    14.577380\n",
      "marks           4.558061\n",
      "dtype: float64\n",
      "roll number     1\n",
      "marks          12\n",
      "dtype: int64\n",
      "roll number    50\n",
      "marks          30\n",
      "dtype: int64\n",
      "    roll number  marks\n",
      "0             1     20\n",
      "1             2     22\n",
      "2             3     23\n",
      "3             4     24\n",
      "4             5     25\n",
      "5             6     26\n",
      "6             7     27\n",
      "7             8     12\n",
      "8             9     13\n",
      "9            10     15\n",
      "10           11     23\n",
      "11           12     24\n",
      "12           13     23\n",
      "13           14     21\n",
      "14           15     12\n",
      "15           16     13\n",
      "16           17     14\n",
      "17           18     15\n",
      "18           19     30\n",
      "19           20     24\n",
      "20           21     25\n",
      "21           22     26\n",
      "22           23     27\n",
      "23           24     28\n",
      "24           25     29\n",
      "25           26     30\n",
      "26           27     22\n",
      "27           28     22\n",
      "28           29     22\n",
      "29           30     22\n",
      "30           31     23\n",
      "31           32     23\n",
      "32           33     23\n",
      "33           34     23\n",
      "34           35     23\n",
      "35           36     23\n",
      "36           37     24\n",
      "37           38     24\n",
      "38           39     24\n",
      "39           40     25\n",
      "40           41     26\n",
      "41           42     26\n",
      "42           43     27\n",
      "43           44     27\n",
      "44           45     27\n",
      "45           46     27\n",
      "46           47     27\n",
      "47           48     26\n",
      "48           49     27\n",
      "49           50     23\n",
      "roll number    25.50\n",
      "marks          23.14\n",
      "dtype: float64\n",
      "roll number    14.577380\n",
      "marks           4.558061\n",
      "dtype: float64\n",
      "roll number     1\n",
      "marks          12\n",
      "dtype: int64\n",
      "roll number    50\n",
      "marks          30\n",
      "dtype: int64\n"
     ]
    }
   ],
   "source": [
    "import pandas as pd\n",
    "df = pd.DataFrame({'roll number':[1,2,3,4,5,6,7,8,9,10,11,12,13,14,15,16,17,18,19,20,21,22,23,24,25,26,27,28,29,30,31,32,33,34,35,36,37,38,39,40,41,42,43,44,45,46,47,48,49,50],'marks':[20,22,23,24,25,26,27,12,13,15,23,24,23,21,12,13,14,15,30,24,25,26,27,28,29,30,22,22,22,22,23,23,23,23,23,23,24,24,24,25,26,26,27,27,27,27,27,26,27,23]})\n",
    "print(df.mean())\n",
    "print(df.std())\n",
    "print(df.min())\n",
    "print(df.max())\n",
    "df.to_csv('python_marks',index=False)\n",
    "df1 = pd.read_csv('python_marks')\n",
    "print(df1)\n",
    "print(df1.mean())\n",
    "print(df1.std())\n",
    "print(df1.min())\n",
    "print(df1.max())"
   ]
  },
  {
   "cell_type": "markdown",
   "metadata": {},
   "source": [
    "#Write a Pandas program to get the details of the seventh movie of the DataFrame for any particular three fields #(movie_metadata.csv file).\n"
   ]
  },
  {
   "cell_type": "code",
   "execution_count": 31,
   "metadata": {
    "colab": {
     "base_uri": "https://localhost:8080/",
     "height": 505
    },
    "colab_type": "code",
    "id": "NODdSnHdqFmt",
    "outputId": "09639136-7768-4e0f-aec3-a3de27e1a5a6"
   },
   "outputs": [
    {
     "name": "stdout",
     "output_type": "stream",
     "text": [
      "Details of the seventh movie:\n",
      "color                                                                    Color\n",
      "director_name                                                Christopher Nolan\n",
      "num_critic_for_reviews                                                     813\n",
      "duration                                                                   164\n",
      "director_facebook_likes                                                  22000\n",
      "actor_3_facebook_likes                                                   23000\n",
      "actor_2_name                                                    Christian Bale\n",
      "actor_1_facebook_likes                                                   27000\n",
      "gross                                                              4.48131e+08\n",
      "genres                                                         Action|Thriller\n",
      "actor_1_name                                                         Tom Hardy\n",
      "movie_title                                             The Dark Knight Rises \n",
      "num_voted_users                                                        1144337\n",
      "cast_total_facebook_likes                                               106759\n",
      "actor_3_name                                              Joseph Gordon-Levitt\n",
      "facenumber_in_poster                                                         0\n",
      "plot_keywords                deception|imprisonment|lawlessness|police offi...\n",
      "movie_imdb_link              http://www.imdb.com/title/tt1345836/?ref_=fn_t...\n",
      "num_user_for_reviews                                                      2701\n",
      "language                                                               English\n",
      "country                                                                    USA\n",
      "content_rating                                                           PG-13\n",
      "budget                                                                 2.5e+08\n",
      "title_year                                                                2012\n",
      "actor_2_facebook_likes                                                   23000\n",
      "imdb_score                                                                 8.5\n",
      "aspect_ratio                                                              2.35\n",
      "movie_facebook_likes                                                    164000\n",
      "Unnamed: 28                                                                NaN\n",
      "Name: 3, dtype: object\n"
     ]
    }
   ],
   "source": [
    "import pandas as pd\n",
    "df = pd.read_csv('movie_metadata.csv')\n",
    "seventh_movie = df.iloc[3]\n",
    "print(\"Details of the seventh movie:\")\n",
    "print(seventh_movie)"
   ]
  },
  {
   "cell_type": "markdown",
   "metadata": {
    "colab_type": "text",
    "id": "shEnzm7aqalo"
   },
   "source": [
    "#Write a Pandas program to sort the DataFrame based on title_year from dataset of movie_metadata.csv for any particular three fields "
   ]
  },
  {
   "cell_type": "code",
   "execution_count": 35,
   "metadata": {
    "colab": {
     "base_uri": "https://localhost:8080/",
     "height": 321
    },
    "colab_type": "code",
    "id": "mYDsaxZvqazH",
    "outputId": "3af8dac9-521b-43fe-c7f4-b632859116bc"
   },
   "outputs": [
    {
     "name": "stdout",
     "output_type": "stream",
     "text": [
      "Details of title and genres:\n",
      "      title_year\n",
      "4810      1916.0\n",
      "4958      1920.0\n",
      "4885      1925.0\n",
      "2734      1927.0\n",
      "4812      1929.0\n",
      "...          ...\n",
      "4798         NaN\n",
      "4803         NaN\n",
      "4819         NaN\n",
      "4869         NaN\n",
      "5039         NaN\n",
      "\n",
      "[5043 rows x 1 columns]\n"
     ]
    }
   ],
   "source": [
    "import pandas as pd\n",
    "df = pd.read_csv('movie_metadata.csv')\n",
    "result = df[['title_year']]\n",
    "print(\"Details of title and genres:\")\n",
    "print(result.sort_values('title_year'))"
   ]
  },
  {
   "cell_type": "markdown",
   "metadata": {
    "colab_type": "text",
    "id": "nUxDapcTrqwE"
   },
   "source": [
    "#Write a Pandas program to sort the DataFrame based on country  and language from dataset of  movie_metadata.csv\n",
    "\n"
   ]
  },
  {
   "cell_type": "code",
   "execution_count": 44,
   "metadata": {
    "colab": {
     "base_uri": "https://localhost:8080/",
     "height": 321
    },
    "colab_type": "code",
    "id": "KbTNBjajru7-",
    "outputId": "a263b189-1454-4c3d-99b9-ef0f6403985a"
   },
   "outputs": [
    {
     "name": "stdout",
     "output_type": "stream",
     "text": [
      "DataFrame based on country and language\n",
      "          country language\n",
      "4735  Afghanistan     Dari\n",
      "4450    Argentina  Spanish\n",
      "4666    Argentina  Spanish\n",
      "4415    Argentina  Spanish\n",
      "4000    Argentina  Spanish\n",
      "...           ...      ...\n",
      "4             NaN      NaN\n",
      "279           NaN      NaN\n",
      "2370          NaN  English\n",
      "3397          NaN  English\n",
      "4021          NaN  English\n",
      "\n",
      "[5043 rows x 2 columns]\n",
      "        country    language\n",
      "5031    English           8\n",
      "3504  Australia  Aboriginal\n",
      "377          UK  Aboriginal\n",
      "4393     France      Arabic\n",
      "4580    Germany      Arabic\n",
      "...         ...         ...\n",
      "4409        USA         NaN\n",
      "4630        USA         NaN\n",
      "4810        USA         NaN\n",
      "4885        USA         NaN\n",
      "4958        USA         NaN\n",
      "\n",
      "[5043 rows x 2 columns]\n"
     ]
    }
   ],
   "source": [
    "import pandas as pd\n",
    "df = pd.read_csv('movie_metadata.csv')\n",
    "# Create a smaller dataframe\n",
    "small_df = df[['country','language']]\n",
    "print(\"DataFrame based on country and language\")\n",
    "print(small_df.sort_values('country'))\n",
    "print(small_df.sort_values('language'))"
   ]
  },
  {
   "cell_type": "markdown",
   "metadata": {
    "colab_type": "text",
    "id": "LH4CcjZKsD-j"
   },
   "source": [
    "#Write a NumPy program to create a random 4x4 array and extract the 2nd and 3rd rows of the  array and store them into a variable"
   ]
  },
  {
   "cell_type": "code",
   "execution_count": 48,
   "metadata": {
    "colab": {
     "base_uri": "https://localhost:8080/",
     "height": 100
    },
    "colab_type": "code",
    "id": "UNCmW7sQsEKU",
    "outputId": "4aba164f-8ebc-4814-b0f4-551c8278a643"
   },
   "outputs": [
    {
     "name": "stdout",
     "output_type": "stream",
     "text": [
      "Original Array:\n",
      "[[0.43367123 0.00673285 0.65616447 0.30824418]\n",
      " [0.60798254 0.4677453  0.7251931  0.56868049]\n",
      " [0.64310954 0.75110524 0.94008092 0.26835842]\n",
      " [0.86021557 0.63079621 0.06969899 0.95064722]]\n"
     ]
    },
    {
     "data": {
      "text/plain": [
       "array([[0.60798254, 0.4677453 , 0.7251931 , 0.56868049],\n",
       "       [0.64310954, 0.75110524, 0.94008092, 0.26835842]])"
      ]
     },
     "execution_count": 48,
     "metadata": {},
     "output_type": "execute_result"
    }
   ],
   "source": [
    "import numpy as np\n",
    "x = np.random.random((4,4))\n",
    "print(\"Original Array:\")\n",
    "print(x) \n",
    "y = np.array(x[1:3])\n",
    "y"
   ]
  },
  {
   "cell_type": "markdown",
   "metadata": {
    "colab_type": "text",
    "id": "pn4HE1_dsH0D"
   },
   "source": [
    "#Write a NumPy program to create a 10x10 array with random values and find the minimum and maximum values."
   ]
  },
  {
   "cell_type": "code",
   "execution_count": 30,
   "metadata": {
    "colab": {
     "base_uri": "https://localhost:8080/",
     "height": 401
    },
    "colab_type": "code",
    "id": "2GB-Ze9JsID1",
    "outputId": "f9f14212-2542-465e-b28a-515d2fed2c90"
   },
   "outputs": [
    {
     "name": "stdout",
     "output_type": "stream",
     "text": [
      "Original Array:\n",
      "[[0.40744834 0.76725232 0.29901391 0.52678708 0.50050912 0.26806553\n",
      "  0.60441933 0.71362678 0.84354463 0.71855215]\n",
      " [0.23867435 0.16897204 0.86577115 0.5841707  0.83426608 0.35085185\n",
      "  0.34920257 0.9630319  0.29648193 0.94376889]\n",
      " [0.46109152 0.34094848 0.06756039 0.70675974 0.67537061 0.20796137\n",
      "  0.88637508 0.83620898 0.34100151 0.95813007]\n",
      " [0.77580644 0.22816935 0.92762463 0.35865119 0.97411752 0.96621547\n",
      "  0.60110388 0.86232567 0.73515401 0.54361125]\n",
      " [0.36984684 0.98268965 0.24000102 0.11591066 0.9911876  0.36262576\n",
      "  0.57167393 0.65072071 0.81512786 0.93296194]\n",
      " [0.70729899 0.33586498 0.33205016 0.74947205 0.26015726 0.31481229\n",
      "  0.18860129 0.03878801 0.34052664 0.3698773 ]\n",
      " [0.82865584 0.56043079 0.5901351  0.51445038 0.45064597 0.74564006\n",
      "  0.28866654 0.74823784 0.44024861 0.27594701]\n",
      " [0.36667635 0.91889486 0.79782812 0.39486533 0.85726505 0.12097559\n",
      "  0.21971706 0.1491802  0.60639133 0.50535389]\n",
      " [0.39604401 0.34712094 0.40811745 0.01176127 0.20350161 0.32497736\n",
      "  0.74648876 0.20441711 0.70576369 0.5578726 ]\n",
      " [0.8479119  0.5593926  0.34205714 0.65973995 0.72573185 0.60727403\n",
      "  0.44622705 0.90479505 0.16497758 0.97048782]]\n",
      "Minimum and Maximum Values:\n",
      "0.011761273557725271 0.9911875970210984\n"
     ]
    }
   ],
   "source": [
    "import numpy as np\n",
    "x = np.random.random((10,10))\n",
    "print(\"Original Array:\")\n",
    "print(x) \n",
    "xmin, xmax = x.min(), x.max()\n",
    "print(\"Minimum and Maximum Values:\")\n",
    "print(xmin, xmax)"
   ]
  },
  {
   "cell_type": "markdown",
   "metadata": {
    "colab_type": "text",
    "id": "JD20gdBqtXw0"
   },
   "source": [
    "#Write a NumPy program to generate 8 random integers between 100 and 300\n",
    "\n"
   ]
  },
  {
   "cell_type": "code",
   "execution_count": 31,
   "metadata": {
    "colab": {
     "base_uri": "https://localhost:8080/",
     "height": 33
    },
    "colab_type": "code",
    "id": "MoLfz9D0tYHV",
    "outputId": "4bd7abb4-762c-4b20-a44f-821640e9c0e7"
   },
   "outputs": [
    {
     "name": "stdout",
     "output_type": "stream",
     "text": [
      "[217 184 299 181 233 135 213 214]\n"
     ]
    }
   ],
   "source": [
    "import numpy as np\n",
    "x = np.random.randint(low=100, high=300, size=8)\n",
    "print(x)"
   ]
  },
  {
   "cell_type": "markdown",
   "metadata": {
    "colab_type": "text",
    "id": "_j-KGuiRtwAN"
   },
   "source": [
    "#Write a NumPy program to create a random integer nos of size 20 and sort it."
   ]
  },
  {
   "cell_type": "code",
   "execution_count": 32,
   "metadata": {
    "colab": {
     "base_uri": "https://localhost:8080/",
     "height": 184
    },
    "colab_type": "code",
    "id": "UhapnZ4FtwaN",
    "outputId": "59e8c525-c7ea-4f7d-f2d4-bc73bf43b5f6"
   },
   "outputs": [
    {
     "name": "stdout",
     "output_type": "stream",
     "text": [
      "Original array:\n",
      "[0.57333589 0.10845084 0.21260732 0.49743465 0.55785806 0.64558782\n",
      " 0.33222289 0.44123651 0.52195969 0.02645905 0.37172284 0.32401907\n",
      " 0.59267055 0.39478873 0.64135444 0.07826998 0.49796754 0.82544896\n",
      " 0.29097065 0.55375522]\n",
      "Sorted array:\n",
      "[0.02645905 0.07826998 0.10845084 0.21260732 0.29097065 0.32401907\n",
      " 0.33222289 0.37172284 0.39478873 0.44123651 0.49743465 0.49796754\n",
      " 0.52195969 0.55375522 0.55785806 0.57333589 0.59267055 0.64135444\n",
      " 0.64558782 0.82544896]\n"
     ]
    }
   ],
   "source": [
    "import numpy as np\n",
    "x = np.random.random(20)\n",
    "print(\"Original array:\")\n",
    "print(x)\n",
    "x.sort()\n",
    "print(\"Sorted array:\")\n",
    "print(x)"
   ]
  }
 ],
 "metadata": {
  "colab": {
   "collapsed_sections": [],
   "name": "DAY 3 exercises.ipynb",
   "provenance": []
  },
  "kernelspec": {
   "display_name": "Python 3",
   "language": "python",
   "name": "python3"
  },
  "language_info": {
   "codemirror_mode": {
    "name": "ipython",
    "version": 3
   },
   "file_extension": ".py",
   "mimetype": "text/x-python",
   "name": "python",
   "nbconvert_exporter": "python",
   "pygments_lexer": "ipython3",
   "version": "3.7.4"
  }
 },
 "nbformat": 4,
 "nbformat_minor": 1
}
