{
  "nbformat": 4,
  "nbformat_minor": 0,
  "metadata": {
    "colab": {
      "name": "Day 1(session 1(exercises)).ipynb",
      "provenance": [],
      "collapsed_sections": []
    },
    "kernelspec": {
      "name": "python3",
      "display_name": "Python 3"
    }
  },
  "cells": [
    {
      "cell_type": "markdown",
      "metadata": {
        "id": "w8pSP65t8jcs",
        "colab_type": "text"
      },
      "source": [
        "#Find the compound interest for the given p,n,r  (formula : p(1+n*r/100)n )"
      ]
    },
    {
      "cell_type": "code",
      "metadata": {
        "id": "cPblxTpO8rwp",
        "colab_type": "code",
        "colab": {
          "base_uri": "https://localhost:8080/",
          "height": 85
        },
        "outputId": "b67c1ff3-9cfc-4207-ce12-3e2241f7697c"
      },
      "source": [
        "def compoundinterest(p,n,r):\n",
        "  return (p*(1+n*r/100)*n )\n",
        "p = int(input(\"Enter p : \"))\n",
        "n = int(input(\"Enter n : \"))\n",
        "r = int(input(\"Enter r : \"))\n",
        "print(\"The Compound Interest is\",compoundinterest(p,n,r))"
      ],
      "execution_count": 17,
      "outputs": [
        {
          "output_type": "stream",
          "text": [
            "Enter p : 5\n",
            "Enter n : 2\n",
            "Enter r : 6\n",
            "The Compound Interest is 11.200000000000001\n"
          ],
          "name": "stdout"
        }
      ]
    },
    {
      "cell_type": "markdown",
      "metadata": {
        "id": "-Nt3gBtf-Uc5",
        "colab_type": "text"
      },
      "source": [
        "#Convert centegrade to farenheit  ( f= 9/5*c+32)"
      ]
    },
    {
      "cell_type": "code",
      "metadata": {
        "id": "evb4JKlG-Yms",
        "colab_type": "code",
        "colab": {
          "base_uri": "https://localhost:8080/",
          "height": 51
        },
        "outputId": "985d8081-fff6-4d04-f0cd-0772e23e20d3"
      },
      "source": [
        "def faren(num):\n",
        "  return ((9/5*num)+32)\n",
        "num = float(input(\"Enter the celsiud value\"))\n",
        "faren(num)"
      ],
      "execution_count": 20,
      "outputs": [
        {
          "output_type": "stream",
          "text": [
            "Enter the celsiud value98\n"
          ],
          "name": "stdout"
        },
        {
          "output_type": "execute_result",
          "data": {
            "text/plain": [
              "208.4"
            ]
          },
          "metadata": {
            "tags": []
          },
          "execution_count": 20
        }
      ]
    },
    {
      "cell_type": "markdown",
      "metadata": {
        "id": "GhUtxoI2_RCM",
        "colab_type": "text"
      },
      "source": [
        "#Find the greater of two nos "
      ]
    },
    {
      "cell_type": "code",
      "metadata": {
        "id": "jtj371TO_VR0",
        "colab_type": "code",
        "colab": {
          "base_uri": "https://localhost:8080/",
          "height": 68
        },
        "outputId": "d8552244-b3ca-4ff4-de60-2d8791b659d6"
      },
      "source": [
        "def greatest(a,b):\n",
        "  if a>b:\n",
        "    return a\n",
        "  else:\n",
        "    return b\n",
        "a = int(input(\"Enter the 1st number\"))\n",
        "b = int(input(\"Enter the 2nd number\"))\n",
        "print(\"The greatest number is : \",greatest(a,b))"
      ],
      "execution_count": 22,
      "outputs": [
        {
          "output_type": "stream",
          "text": [
            "Enter the 1st number6\n",
            "Enter the 2nd number8\n",
            "The greatest number is :  8\n"
          ],
          "name": "stdout"
        }
      ]
    },
    {
      "cell_type": "markdown",
      "metadata": {
        "id": "Y_m6stYj_068",
        "colab_type": "text"
      },
      "source": [
        "#Write a program for finding surface areas of cylinder and cone (2*PI*r*r*h, 1/3*PI*r*r*h) using function."
      ]
    },
    {
      "cell_type": "code",
      "metadata": {
        "id": "A3cyhGbB_4yz",
        "colab_type": "code",
        "colab": {
          "base_uri": "https://localhost:8080/",
          "height": 85
        },
        "outputId": "0a1b442c-9ee2-49c4-a50e-08e4a2295fa5"
      },
      "source": [
        "def ar(p,r,h):\n",
        "  print(\"Area of cylinder : \",2*p*r*r*h)\n",
        "  print(\"Area of cone : \",1/3 *p*r*r*h)\n",
        "p = 3.14\n",
        "r = float(input(\"Enter the radius\"))\n",
        "h = float(input('Enter the height'))\n",
        "ar(p,r,h)"
      ],
      "execution_count": 25,
      "outputs": [
        {
          "output_type": "stream",
          "text": [
            "Enter the radius4\n",
            "Enter the height5\n",
            "Area of cylinder :  502.40000000000003\n",
            "Area of cone :  83.73333333333333\n"
          ],
          "name": "stdout"
        }
      ]
    },
    {
      "cell_type": "markdown",
      "metadata": {
        "id": "vtIU6Hq_BIc2",
        "colab_type": "text"
      },
      "source": [
        "#Find the greatest of four nos ( using ‘and’ operator)   using function."
      ]
    },
    {
      "cell_type": "code",
      "metadata": {
        "id": "OBYws27OBM3m",
        "colab_type": "code",
        "colab": {
          "base_uri": "https://localhost:8080/",
          "height": 102
        },
        "outputId": "6f51837c-2054-4545-f7b2-a2326bf08553"
      },
      "source": [
        "def greatest(a,b,c,d):\n",
        "  if(a>b and a>c and a>d):\n",
        "    return a\n",
        "  elif(b>a and b>c and a>d):\n",
        "    return b\n",
        "  elif(c>a and c>b and c>d):\n",
        "    return c\n",
        "  else:\n",
        "    return d\n",
        "a = int(input(\"Enter the 1st number\"))\n",
        "b = int(input(\"Enter the 2nd number\"))\n",
        "c = int(input(\"Enter the 3rd number\"))\n",
        "d = int(input(\"Enter the 4th number\"))\n",
        "print(\"The greatest number is : \",greatest(a,b,c,d))"
      ],
      "execution_count": 26,
      "outputs": [
        {
          "output_type": "stream",
          "text": [
            "Enter the 1st number5\n",
            "Enter the 2nd number6\n",
            "Enter the 3rd number7\n",
            "Enter the 4th number8\n",
            "The greatest number is :  8\n"
          ],
          "name": "stdout"
        }
      ]
    },
    {
      "cell_type": "markdown",
      "metadata": {
        "id": "2m6Jy4E4B_5A",
        "colab_type": "text"
      },
      "source": [
        "#Write a  menu program to perform the operations ( ODDorEven, Factorial, ODDNoUptoN, PrimeUptoN ) using functions for two nos with  menu choice"
      ]
    },
    {
      "cell_type": "code",
      "metadata": {
        "id": "xR2JY97YCD8a",
        "colab_type": "code",
        "colab": {
          "base_uri": "https://localhost:8080/",
          "height": 464
        },
        "outputId": "e2ecea0f-83ec-446b-b993-1ab8538def75"
      },
      "source": [
        "loop = 1 # 1 means loop; anything else means don't loop.\n",
        "choice = 0 # This variable holds the user's choice in the menu\n",
        "\n",
        "def odd(a):\n",
        "    if a%2==0:\n",
        "      print(\"Even\")\n",
        "    else:\n",
        "      print(\"Odd\") \n",
        "def factorial(a):\n",
        "    if a==1:\n",
        "      return a\n",
        "    else:\n",
        "      return a*factorial(a-1)\n",
        "def oddton(a):\n",
        "    for i in range(1,a,2):\n",
        "      print(i,end=\" \")\n",
        "def prime(a,b):\n",
        "    for i in range(a,b+1):\n",
        "      if i>1:\n",
        "          for x in range(2,i):\n",
        "             if((i % x)==0):\n",
        "                break\n",
        "          else:\n",
        "             print(x,end=\" \")\n",
        "\n",
        "while loop == 1:\n",
        "    # Print what options you have\n",
        "    print (\"Choose\")\n",
        "    print (\"your options are:\")\n",
        "    print (\" \")\n",
        "    print(\"1) Odd or Even\")\n",
        "    print(\"2) Factorial\")\n",
        "    print(\"3) Odd upto N\")\n",
        "    print(\"4) Prime upto N\")\n",
        "    print(\"5) Quit\")\n",
        "    print(\" \")\n",
        "    try:\n",
        "        choice = int(input(\"Choose your option: \"))\n",
        "    except:\n",
        "        print('please enter a valid number for option')\n",
        "    print(\" \")\n",
        "    print(\" \")\n",
        "    if choice == 1:\n",
        "        a = int(input(\"Enter no: \"))\n",
        "        print(odd(a))\n",
        "    elif choice == 2:\n",
        "        a = int(input(\"Enter no: \"))\n",
        "        print(factorial(a))\n",
        "    elif choice == 3:\n",
        "        a = int(input(\"Enter no: \"))\n",
        "        print(\"answer is \",oddton(a))\n",
        "    elif choice == 4:\n",
        "        a = int(input(\"Enter no: \"))\n",
        "        b = int(input(\"Enter no: \"))\n",
        "        print(prime(a,b))    \n",
        "    elif choice == 5:\n",
        "        loop = 0  \n",
        "    else:\n",
        "        print(\"please choice a valid option from 1 to 5\")\n",
        "        choice=0\n",
        "print (\"Thank-you!\")"
      ],
      "execution_count": 0,
      "outputs": [
        {
          "output_type": "stream",
          "text": [
            "Choose\n",
            "your options are:\n",
            " \n",
            "1) Odd or Even\n",
            "2) Factorial\n",
            "3) Odd upto N\n",
            "4) Prime upto N\n",
            "5) Quit\n",
            " \n",
            "Choose your option: 1\n",
            " \n",
            " \n",
            "Enter no: 10\n",
            "Even\n",
            "None\n",
            "Choose\n",
            "your options are:\n",
            " \n",
            "1) Odd or Even\n",
            "2) Factorial\n",
            "3) Odd upto N\n",
            "4) Prime upto N\n",
            "5) Quit\n",
            " \n"
          ],
          "name": "stdout"
        }
      ]
    }
  ]
}