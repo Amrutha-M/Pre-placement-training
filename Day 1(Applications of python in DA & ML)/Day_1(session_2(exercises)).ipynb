{
  "nbformat": 4,
  "nbformat_minor": 0,
  "metadata": {
    "colab": {
      "name": "Day 1(session 2(exercises)).ipynb",
      "provenance": []
    },
    "kernelspec": {
      "name": "python3",
      "display_name": "Python 3"
    }
  },
  "cells": [
    {
      "cell_type": "markdown",
      "metadata": {
        "id": "6i76HF_1OgIN",
        "colab_type": "text"
      },
      "source": [
        "#Write a program to print the triangle "
      ]
    },
    {
      "cell_type": "code",
      "metadata": {
        "id": "hp9wBX3fOqmS",
        "colab_type": "code",
        "colab": {
          "base_uri": "https://localhost:8080/",
          "height": 102
        },
        "outputId": "7864e818-6778-4b88-fecb-57b2086969d4"
      },
      "source": [
        "n = 5\n",
        "for i in range(0,n):\n",
        "  for j in range(i,i+i,1):\n",
        "    print(j,end=\" \")\n",
        "  print()\n"
      ],
      "execution_count": 37,
      "outputs": [
        {
          "output_type": "stream",
          "text": [
            "\n",
            "1 \n",
            "2 3 \n",
            "3 4 5 \n",
            "4 5 6 7 \n"
          ],
          "name": "stdout"
        }
      ]
    },
    {
      "cell_type": "markdown",
      "metadata": {
        "id": "pMph9JLlUVRp",
        "colab_type": "text"
      },
      "source": [
        "#star pattern program"
      ]
    },
    {
      "cell_type": "code",
      "metadata": {
        "id": "RhRFj-gUUXWr",
        "colab_type": "code",
        "colab": {
          "base_uri": "https://localhost:8080/",
          "height": 136
        },
        "outputId": "64630682-b144-46b6-db4a-1793db0404ab"
      },
      "source": [
        "def pyramid(n):\n",
        "  num =0\n",
        "  for i in range(0,n+1):\n",
        "    for j in range(0,i):\n",
        "      print(\"*\",end=\" \")\n",
        "    print(\"\\r\")\n",
        "n = int(input(\"Enter the number\"))\n",
        "pyramid(n)"
      ],
      "execution_count": 15,
      "outputs": [
        {
          "output_type": "stream",
          "text": [
            "Enter the number5\n",
            "\n",
            "* \n",
            "* * \n",
            "* * * \n",
            "* * * * \n",
            "* * * * * \n"
          ],
          "name": "stdout"
        }
      ]
    },
    {
      "cell_type": "markdown",
      "metadata": {
        "id": "W_Y8MIbRUvbx",
        "colab_type": "text"
      },
      "source": [
        "#number pattern"
      ]
    },
    {
      "cell_type": "code",
      "metadata": {
        "id": "SAqNJ8knVhVa",
        "colab_type": "code",
        "colab": {
          "base_uri": "https://localhost:8080/",
          "height": 102
        },
        "outputId": "dbb0f0ac-2103-4a88-d327-7077c31bcbfe"
      },
      "source": [
        "n = 5\n",
        "for i in range(0,n):\n",
        "  for j in range(n-i,n+1,1):\n",
        "    print(j,end=\" \")\n",
        "  print()"
      ],
      "execution_count": 38,
      "outputs": [
        {
          "output_type": "stream",
          "text": [
            "5 \n",
            "4 5 \n",
            "3 4 5 \n",
            "2 3 4 5 \n",
            "1 2 3 4 5 \n"
          ],
          "name": "stdout"
        }
      ]
    },
    {
      "cell_type": "markdown",
      "metadata": {
        "id": "CUGJXNTVBGBt",
        "colab_type": "text"
      },
      "source": [
        "#Number pyramid\n"
      ]
    },
    {
      "cell_type": "code",
      "metadata": {
        "id": "T6IgggmABQgW",
        "colab_type": "code",
        "colab": {
          "base_uri": "https://localhost:8080/",
          "height": 119
        },
        "outputId": "a645b153-7e51-43b4-83d0-fe95806c2621"
      },
      "source": [
        "n = 5\n",
        "for i in range(0,n+1):\n",
        "  for j in range(n-i,0,-1):\n",
        "    print(j,end=\" \")\n",
        "  print()"
      ],
      "execution_count": 39,
      "outputs": [
        {
          "output_type": "stream",
          "text": [
            "5 4 3 2 1 \n",
            "4 3 2 1 \n",
            "3 2 1 \n",
            "2 1 \n",
            "1 \n",
            "\n"
          ],
          "name": "stdout"
        }
      ]
    },
    {
      "cell_type": "markdown",
      "metadata": {
        "id": "0WU4rRqWBZLP",
        "colab_type": "text"
      },
      "source": [
        "#Number pyramid"
      ]
    },
    {
      "cell_type": "code",
      "metadata": {
        "id": "gANFkAInBbwT",
        "colab_type": "code",
        "colab": {
          "base_uri": "https://localhost:8080/",
          "height": 170
        },
        "outputId": "4247f796-82b6-41d0-f3c9-ed6cdd41e707"
      },
      "source": [
        "n = 5\n",
        "for i in range(1,n+1):\n",
        "  for j in range(i,n+1,1):\n",
        "    print(j,end=\" \")\n",
        "  print()\n",
        "for i in range(1,n):\n",
        "  for j in range(n-i,n+1,1):\n",
        "    print(j,end=\" \")\n",
        "  print()"
      ],
      "execution_count": 41,
      "outputs": [
        {
          "output_type": "stream",
          "text": [
            "1 2 3 4 5 \n",
            "2 3 4 5 \n",
            "3 4 5 \n",
            "4 5 \n",
            "5 \n",
            "4 5 \n",
            "3 4 5 \n",
            "2 3 4 5 \n",
            "1 2 3 4 5 \n"
          ],
          "name": "stdout"
        }
      ]
    },
    {
      "cell_type": "markdown",
      "metadata": {
        "id": "X_vo0-flX4Bi",
        "colab_type": "text"
      },
      "source": [
        "#Find the length of a string without using len functions"
      ]
    },
    {
      "cell_type": "code",
      "metadata": {
        "id": "dH_ZXWFvX5sW",
        "colab_type": "code",
        "colab": {
          "base_uri": "https://localhost:8080/",
          "height": 51
        },
        "outputId": "9c013f97-b4c6-4263-99b1-7491952a0d8f"
      },
      "source": [
        "def length(s):\n",
        "  c = 0\n",
        "  for i in s:\n",
        "    c=c+1\n",
        "  return c\n",
        "s =str(input(\"Enter the string : \"))\n",
        "print(\"The length of string is : \",length(s))"
      ],
      "execution_count": 21,
      "outputs": [
        {
          "output_type": "stream",
          "text": [
            "Enter the string : amruta\n",
            "The length of string is :  6\n"
          ],
          "name": "stdout"
        }
      ]
    },
    {
      "cell_type": "markdown",
      "metadata": {
        "id": "C0NrKeKwYX10",
        "colab_type": "text"
      },
      "source": [
        "#Find the no of words and characters in a string"
      ]
    },
    {
      "cell_type": "code",
      "metadata": {
        "id": "86ukOKDgYd_8",
        "colab_type": "code",
        "colab": {
          "base_uri": "https://localhost:8080/",
          "height": 68
        },
        "outputId": "fe5e67a7-dda3-40c2-d530-73ce77860ce6"
      },
      "source": [
        "def cou(s):\n",
        "  c=0\n",
        "  a = s.split()\n",
        "  v = len(a)\n",
        "  for i in a:\n",
        "    c = c+len(i)\n",
        "  print(\"word count : \",v)\n",
        "  print(\"character count : \",c)\n",
        "s = str(input(\"Enter the string : \"))\n",
        "cou(s)\n"
      ],
      "execution_count": 25,
      "outputs": [
        {
          "output_type": "stream",
          "text": [
            "Enter the string : amrutha is good\n",
            "word count :  3\n",
            "character count :  13\n"
          ],
          "name": "stdout"
        }
      ]
    },
    {
      "cell_type": "markdown",
      "metadata": {
        "id": "bEoeFKjlaA8A",
        "colab_type": "text"
      },
      "source": [
        "#Find the no of occurrences of a word in a string"
      ]
    },
    {
      "cell_type": "code",
      "metadata": {
        "id": "V9_HxJWYaCKq",
        "colab_type": "code",
        "colab": {
          "base_uri": "https://localhost:8080/",
          "height": 68
        },
        "outputId": "4f0c7a03-3fcb-4b57-e023-f9de171d8dbe"
      },
      "source": [
        "def occur(s):\n",
        "  c =0\n",
        "  a = str(input(\"Enter the word : \"))\n",
        "  w = s.split()\n",
        "  for i in range(0,len(w)):\n",
        "    if(a == w[i]):\n",
        "      c = c+1\n",
        "  return c\n",
        "s = str(input(\"Enter the string : \"))\n",
        "print(\"The number of occurances is : \",occur(s))"
      ],
      "execution_count": 31,
      "outputs": [
        {
          "output_type": "stream",
          "text": [
            "Enter the string : amrutha is is is is is is goof\n",
            "Enter the word : is\n",
            "The number of occurances is :  6\n"
          ],
          "name": "stdout"
        }
      ]
    },
    {
      "cell_type": "code",
      "metadata": {
        "id": "0SeOyZDFam8y",
        "colab_type": "code",
        "colab": {}
      },
      "source": [
        ""
      ],
      "execution_count": 0,
      "outputs": []
    }
  ]
}